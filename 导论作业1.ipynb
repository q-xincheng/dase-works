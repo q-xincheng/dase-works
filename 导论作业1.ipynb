{
 "cells": [
  {
   "cell_type": "markdown",
   "metadata": {},
   "source": [
    "1.编写Python程序，打印\"数据科学与工程导论\"，并使用 print(chr(0x2605)) 语句将这句话包围起来。"
   ]
  },
  {
   "cell_type": "code",
   "execution_count": null,
   "metadata": {},
   "outputs": [],
   "source": [
    "\n",
    "print(chr(0x2605),chr(0x2605),chr(0x2605),chr(0x2605),chr(0x2605),chr(0x2605),chr(0x2605), chr(0x2605))\n",
    "print(chr(0x2605), \"数据科学与工程导论\",chr(0x2605))\n",
    "print(chr(0x2605),chr(0x2605),chr(0x2605),chr(0x2605),chr(0x2605),chr(0x2605),chr(0x2605), chr(0x2605))"
   ]
  },
  {
   "cell_type": "markdown",
   "metadata": {},
   "source": [
    "2.写一个 Python 程序，输入 x, y, z 这三个数，将这三个数从小到大使用 print 函数打印出来。"
   ]
  },
  {
   "cell_type": "code",
   "execution_count": null,
   "metadata": {},
   "outputs": [],
   "source": [
    "x = int(input(\"第一个数 x: \"))  \n",
    "y = int(input(\"第二个数 y: \"))  \n",
    "z = int(input(\"第三个数 z: \"))  \n",
    "numbers = [x, y, z]  \n",
    "numbers.sort()  \n",
    "print(\"从小到大:\")  \n",
    "print(numbers[0], numbers[1], numbers[2])\n"
   ]
  },
  {
   "cell_type": "markdown",
   "metadata": {},
   "source": [
    "3.写一个 Python 程序，有 w, x, y, z 四个数，将这四个数从大到小使用 print 函数打印出来。"
   ]
  },
  {
   "cell_type": "code",
   "execution_count": null,
   "metadata": {},
   "outputs": [],
   "source": [
    "a = int(input(\"第一个数: \"))  \n",
    "b = int(input(\"第二个数: \"))  \n",
    "c = int(input(\"第三个数: \"))  \n",
    "d = int(input(\"第四个数: \"))  \n",
    "numbers = [a,b,c,d]  \n",
    "numbers.sort()  \n",
    "print(\"从大到小:\")  \n",
    "print(numbers[3], numbers[2],  numbers[1], numbers[0])"
   ]
  },
  {
   "cell_type": "markdown",
   "metadata": {},
   "source": [
    "4.写一个 Python 程序，输出 1-100 中的所有奇数。"
   ]
  },
  {
   "cell_type": "code",
   "execution_count": null,
   "metadata": {},
   "outputs": [],
   "source": [
    "for number in range(1, 100):    \n",
    "    if number % 2 != 0:  \n",
    "        print(number, end=' ')"
   ]
  },
  {
   "cell_type": "markdown",
   "metadata": {},
   "source": [
    "5.写一个 Python 程序，用 for 循环，求解 1 到 100 的和。"
   ]
  },
  {
   "cell_type": "code",
   "execution_count": null,
   "metadata": {},
   "outputs": [],
   "source": [
    "sum = 0\n",
    "for a in range(1,100):\n",
    "    sum += a\n",
    "print(sum)\n"
   ]
  },
  {
   "cell_type": "markdown",
   "metadata": {},
   "source": [
    "6.写一个 Python 程序，分别用 for 和 while 循环实现对一个给定序列的倒排序输出。例如，给定 L=[1,2,3,4,5]，输出为 [5,4,3,2,1]。"
   ]
  },
  {
   "cell_type": "code",
   "execution_count": null,
   "metadata": {},
   "outputs": [],
   "source": [
    "l = []\n",
    "a = int(input(\"元素数量: \")) \n",
    "for i in range(a):   \n",
    "    element = int(input(f\"第 {i+1} 个元素: \"))  \n",
    "    l.append(element)  \n",
    "\n",
    "# 使用 for 循环倒排序输出  \n",
    "l1 = []  \n",
    "for i in range(len(l) - 1, -1, -1):  \n",
    "    l1.append(l[i])  \n",
    "\n",
    "print(\"for 循环倒排序输出:\", l1)\n",
    "\n",
    "\n",
    "# 使用 while 循环倒排序输出  \n",
    "l2 = []  \n",
    "i = len(l ) - 1  \n",
    "while i >= 0:  \n",
    "    l2.append(l[i])  \n",
    "    i -= 1 \n",
    "\n",
    "print(\"while 循环倒排序输出:\", l2)"
   ]
  },
  {
   "cell_type": "markdown",
   "metadata": {},
   "source": [
    "7.写一个 Python 程序，判断一个输入的字符串 S 是否包含由两个或两个以上连续出现的相同字符组成的字符串。例如，abccccda 中就包含 cccc 这个由 4 个连续字符组成的字符串。"
   ]
  },
  {
   "cell_type": "code",
   "execution_count": null,
   "metadata": {},
   "outputs": [],
   "source": [
    "s = input()\n",
    "for i in range(1, len(s)):  \n",
    "        if s[i] == s[i - 1]:  \n",
    "            print(\"包含\")  \n",
    "        else:\n",
    "            print(\"不包含\")\n"
   ]
  },
  {
   "cell_type": "markdown",
   "metadata": {},
   "source": [
    "8.写一个 Python 程序，输入一个字符串 S，去掉其中所有的空格后输出。例如，“DataScience and Engineering”，去掉空格后为“DataScienceandEngineering”。"
   ]
  },
  {
   "cell_type": "code",
   "execution_count": null,
   "metadata": {},
   "outputs": [],
   "source": [
    "S = input()\n",
    "result = \"\"\n",
    "for char in S:\n",
    "    if char != \" \":\n",
    "        result += char\n",
    "print(result )"
   ]
  },
  {
   "cell_type": "markdown",
   "metadata": {},
   "source": [
    "9.请设计一个求 3 次方根的算法（不允许直接调用求方根的函数），并给出对应的 Python 程序。 采用牛顿迭代法求解，迭代过程数学公式表示为： \n"
   ]
  },
  {
   "cell_type": "code",
   "execution_count": null,
   "metadata": {},
   "outputs": [],
   "source": [
    "a = int(input())\n",
    "def root(a,):\n",
    "    epsilon=1e-10\n",
    "    if a == 0:\n",
    "        return 0\n",
    "    \n",
    "    x = a / 2.0  \n",
    "    for _ in range(10000):\n",
    "        x_new = (2 * x + a / (x ** 2)) / 3\n",
    "        if abs(x_new - x) < epsilon:\n",
    "            return x_new\n",
    "        x = x_new\n",
    "    return x\n",
    "\n",
    "result = root(a)\n",
    "print(f\"{result}\")"
   ]
  },
  {
   "cell_type": "markdown",
   "metadata": {},
   "source": [
    "10.写一个 Python 程序，给定一个常数 n（n>0），求 n 的阶乘，即 n!=1×2×...×(n-1)×n。例如，4!=24，5!=120。"
   ]
  },
  {
   "cell_type": "code",
   "execution_count": null,
   "metadata": {},
   "outputs": [],
   "source": [
    "n=int(input())\n",
    "A = 1\n",
    "for i in range(1, n + 1):\n",
    "        A *= i\n",
    "print(A)"
   ]
  }
 ],
 "metadata": {
  "kernelspec": {
   "display_name": "Python 3",
   "language": "python",
   "name": "python3"
  },
  "language_info": {
   "codemirror_mode": {
    "name": "ipython",
    "version": 3
   },
   "file_extension": ".py",
   "mimetype": "text/x-python",
   "name": "python",
   "nbconvert_exporter": "python",
   "pygments_lexer": "ipython3",
   "version": "3.11.9"
  }
 },
 "nbformat": 4,
 "nbformat_minor": 2
}
