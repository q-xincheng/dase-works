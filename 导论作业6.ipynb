{
 "cells": [
  {
   "cell_type": "markdown",
   "metadata": {},
   "source": [
    "1. 读取data中2023_6文件夹中的openrank数据集，分析美国排名前一百的项目的的value的最大值、最小值、均值以及中位数。"
   ]
  },
  {
   "cell_type": "code",
   "execution_count": null,
   "metadata": {},
   "outputs": [],
   "source": [
    "import pandas as pd\n",
    "\n",
    "df = pd.read_csv('data/2023_6/open_rank_20236.csv')\n",
    "\n",
    "us_data = df[ df['rank'] <= 100\n",
    "             \n",
    "max_value = us_data['value'].max()\n",
    "min_value = us_data['value'].min()\n",
    "mean_value = us_data['value'].mean()\n",
    "median_value = us_data['value'].median()\n",
    "\n",
    "print(f\"最大值为：{max_value}\")\n",
    "print(f\"最小值为：{min_value}\")\n",
    "print(f\"均值为：{mean_value}\")\n",
    "print(f\"中位数为：{median_value}\")"
   ]
  },
  {
   "cell_type": "markdown",
   "metadata": {},
   "source": [
    "2. 读取data中2022文件夹下的activity_2020文件，分析美国排名前十的项目的平均增长率。"
   ]
  },
  {
   "cell_type": "code",
   "execution_count": null,
   "metadata": {},
   "outputs": [],
   "source": [
    "import numpy as np\n",
    "\n",
    "top_ten_us = pd.read_csv('data/2022/activity_2022.csv')\n",
    "\n",
    "col = top_ten_us.shape[1]-1\n",
    "row = top_ten_us.shape[0]\n",
    "rate=np.array([0 for i in range(row)])\n",
    "for i in range(1,col):\n",
    "    rate=rate+(top_ten_us.iloc[:,i+1]-top_ten_us.iloc[:,i])/top_ten_us.iloc[:,i]\n",
    "    \n",
    "#计算平均增长率\n",
    "rate=round(rate/(col-1),6)\n",
    "rate"
   ]
  },
  {
   "cell_type": "markdown",
   "metadata": {},
   "source": [
    "3. data/2022/china_2022.csv表示中国开源领域排名前十的企业。data/2022/global_2022.csv表示开源领域全球前十的的企业，请通过各种统计指标比较两者的各种数据差异。"
   ]
  },
  {
   "cell_type": "code",
   "execution_count": null,
   "metadata": {},
   "outputs": [],
   "source": [
    "data1 = pd.read_csv('data/2022/china_2022.csv')\n",
    "data2 = pd.read_csv('data/2022/global_2022.csv')\n",
    "# 计算基本统计量\n",
    "china_stats = data1.describe()\n",
    "global_stats = data2.describe()\n",
    "\n",
    "print(\"中国开源前十企业的统计指标：\\n\", china_stats, \"\\n\")\n",
    "print(\"全球开源前十企业的统计指标：\\n\", global_stats, \"\\n\")\n"
   ]
  },
  {
   "cell_type": "markdown",
   "metadata": {},
   "source": [
    "4. 贝叶斯定理\n",
    "\n",
    "    贝叶斯定理参考：https://zh.wikipedia.org/wiki/%E8%B4%9D%E5%8F%B6%E6%96%AF%E5%AE%9A%E7%90%86\n",
    "\n",
    "    根据 OpenLeaderboard 上对前 10000 个活跃的项目统计，工具组件型项目占比 50 %，系统应用型占比 25 %，而内容资源型（非软件类）项目占比 25 %，成三分天下的态势。\n",
    "\n",
    "    非软件类项目中，带有 HTML/Markdown 标签的项目占 85 %，而软件类项目中带 HTML/Markdown标签的项目占比则为 10 %（注：HTML/Markdown 一般可用来书写文档内容）\n",
    "\n",
    "    工具组件型项目中，JavaScript 语言的项目占比 35 %，而非工具组件型项目中， JavaScript 语言的项目占比则为 10 %（注：JavaScript 是一种脚本编程语言，可以在网页上实现复杂的功能）\n",
    "\n",
    "    已知一个项目带有 HTML/Markdown 标签，那么该项目是非软件型项目的概率是多少？"
   ]
  },
  {
   "cell_type": "code",
   "execution_count": null,
   "metadata": {},
   "outputs": [],
   "source": [
    "# 已知数据\n",
    "P_A = 0.25                # 非软件型项目的先验概率\n",
    "P_software = 0.75         # 软件型项目的先验概率\n",
    "P_B_given_A = 0.85        # 非软件型项目带有 HTML/Markdown 标签的概率\n",
    "P_B_given_software = 0.10 # 软件型项目带有 HTML/Markdown 标签的概率\n",
    "\n",
    "# 计算 P(B)\n",
    "P_B = (P_B_given_A * P_A) + (P_B_given_software * P_software)\n",
    "\n",
    "# 计算 P(A | B)\n",
    "P_A_given_B = (P_B_given_A * P_A) / P_B\n",
    "\n",
    "print(\"已知一个项目带有 HTML/Markdown 标签，该项目是非软件型项目的概率为：\", P_A_given_B)\n"
   ]
  },
  {
   "cell_type": "markdown",
   "metadata": {},
   "source": [
    "5. 接上文，已知一个项目是由 JavaScript 语言编写的，那么它是工具组件型项目的概率是多少？"
   ]
  },
  {
   "cell_type": "code",
   "execution_count": null,
   "metadata": {},
   "outputs": [],
   "source": [
    "# 已知数据\n",
    "P_C = 0.50                   # 工具组件型项目的先验概率\n",
    "P_non_tool = 0.50            # 非工具组件型项目的先验概率\n",
    "P_D_given_C = 0.35           # 工具组件型项目中使用 JavaScript 的概率\n",
    "P_D_given_non_tool = 0.10    # 非工具组件型项目中使用 JavaScript 的概率\n",
    "\n",
    "# 计算 P(D)\n",
    "P_D = (P_D_given_C * P_C) + (P_D_given_non_tool * P_non_tool)\n",
    "\n",
    "# 计算 P(C | D)\n",
    "P_C_given_D = (P_D_given_C * P_C) / P_D\n",
    "\n",
    "print(\"已知一个项目是由 JavaScript 语言编写的，该项目是工具组件型项目的概率为：\", P_C_given_D)\n"
   ]
  },
  {
   "cell_type": "markdown",
   "metadata": {},
   "source": [
    "6. 根据以下数据建立可视化无向图\n",
    "\n",
    "    user = [1, 2, 3, 4] \n",
    "\n",
    "    edge = [(1, 2), (2, 3), (3, 4), (4, 1)]"
   ]
  },
  {
   "cell_type": "code",
   "execution_count": null,
   "metadata": {},
   "outputs": [],
   "source": [
    "import networkx as nx\n",
    "import matplotlib.pyplot as plt\n",
    "\n",
    "# 定义节点和边\n",
    "user = [1, 2, 3, 4]\n",
    "edge = [(1, 2), (2, 3), (3, 4), (4, 1)]\n",
    "\n",
    "# 创建无向图\n",
    "G = nx.Graph()\n",
    "G.add_nodes_from(user)\n",
    "G.add_edges_from(edge)\n",
    "\n",
    "# 绘制无向图\n",
    "plt.figure(figsize=(6, 6))\n",
    "nx.draw(G, with_labels=True, node_color='blue', node_size=900, font_size=16, font_color='red', edge_color='green')\n",
    "plt.title(\"Undirected Graph Visualization\")\n",
    "plt.show()\n"
   ]
  },
  {
   "cell_type": "markdown",
   "metadata": {},
   "source": [
    "7. 根据以下数据建立可视化**有向图**\n",
    "\n",
    "    users = [0, 1, 2, 3, 4, 5, 6, 7, 8, 9]\n",
    "    \n",
    "    edges = [(0, 1), (1, 0), (0, 2), (2, 0), (1, 2),\n",
    "                (2, 1), (1, 3), (2, 3), (3, 4), (5, 4),\n",
    "                (5, 6), (7, 5), (6, 8), (8, 7), (8, 9)]"
   ]
  },
  {
   "cell_type": "code",
   "execution_count": null,
   "metadata": {},
   "outputs": [],
   "source": [
    "import networkx as nx\n",
    "import matplotlib.pyplot as plt\n",
    "\n",
    "# 定义节点和有向边\n",
    "users = [0, 1, 2, 3, 4, 5, 6, 7, 8, 9]\n",
    "edges = [(0, 1), (1, 0), (0, 2), (2, 0), (1, 2),\n",
    "         (2, 1), (1, 3), (2, 3), (3, 4), (5, 4),\n",
    "         (5, 6), (7, 5), (6, 8), (8, 7), (8, 9)]\n",
    "\n",
    "# 创建有向图\n",
    "G = nx.DiGraph()\n",
    "G.add_nodes_from(users)\n",
    "G.add_edges_from(edges)\n",
    "\n",
    "# 绘制有向图\n",
    "plt.figure(figsize=(8, 8))\n",
    "pos = nx.spring_layout(G)  # 布局算法，增强图的可读性\n",
    "nx.draw(G, pos, with_labels=True, node_color='lightblue', node_size=900, font_size=16, font_color='white', edge_color='green', arrowsize=20)\n",
    "plt.title(\"Directed Graph Visualization\")\n",
    "plt.show()\n"
   ]
  },
  {
   "cell_type": "markdown",
   "metadata": {},
   "source": [
    "8. 针对第七题构建的有向图，计算并输出每个节点的pagerank值。同时根据pagerank调整可视化图的大小，使得PageRank越大的节点在可视化结果中也越大。\n",
    "    pageRank算法原理：https://zh.wikipedia.org/wiki/PageRank"
   ]
  },
  {
   "cell_type": "code",
   "execution_count": null,
   "metadata": {},
   "outputs": [],
   "source": [
    "# 计算 PageRank 值\n",
    "pagerank_values = nx.pagerank(G)\n",
    "print(\"PageRank 值：\")\n",
    "for node, value in pagerank_values.items():\n",
    "    print(f\"节点 {node}: {value:.4f}\")\n",
    "\n",
    "# 根据 PageRank 调整节点大小\n",
    "node_sizes = [pagerank_values[node] * 3000 for node in G.nodes]  # 调整比例以增强可视化效果\n",
    "\n",
    "# 绘制有向图，节点大小按 PageRank 值比例\n",
    "plt.figure(figsize=(10, 10))\n",
    "pos = nx.spring_layout(G)\n",
    "nx.draw(G, pos, with_labels=True, node_color='lightblue', node_size=node_sizes, \n",
    "        font_size=12, font_color='black', edge_color='gray', arrowsize=20)\n",
    "plt.title(\"Directed Graph with PageRank-based Node Sizes\")\n",
    "plt.show()"
   ]
  }
 ],
 "metadata": {
  "kernelspec": {
   "display_name": "base",
   "language": "python",
   "name": "python3"
  },
  "language_info": {
   "codemirror_mode": {
    "name": "ipython",
    "version": 3
   },
   "file_extension": ".py",
   "mimetype": "text/x-python",
   "name": "python",
   "nbconvert_exporter": "python",
   "pygments_lexer": "ipython3",
   "version": "3.11.7"
  }
 },
 "nbformat": 4,
 "nbformat_minor": 2
}
