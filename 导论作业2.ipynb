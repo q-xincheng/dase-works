{
 "cells": [
  {
   "cell_type": "markdown",
   "metadata": {},
   "source": [
    "1. 编写 Python 程序，求两个正整数的最大公约数。"
   ]
  },
  {
   "cell_type": "code",
   "execution_count": null,
   "metadata": {},
   "outputs": [],
   "source": [
    "a = int(input())\n",
    "b = int(input())\n",
    "if a < b: ##a > b\n",
    "    c = b\n",
    "    b = a\n",
    "    a = c\n",
    "while b != 0:  \n",
    "    temp = b  # 保存当前的num2值作为下一次的除数  \n",
    "    b = a % b  # 计算余数并更新num2  \n",
    "    a = temp  \n",
    "print(\"最大公约数是\",a)\n",
    "    "
   ]
  },
  {
   "cell_type": "markdown",
   "metadata": {},
   "source": [
    "2.用if语句实现百分制转等级制（考试成绩，60分以下不合格，60—74分合格，75—89分为良好，90分以上为优秀）"
   ]
  },
  {
   "cell_type": "code",
   "execution_count": null,
   "metadata": {},
   "outputs": [],
   "source": [
    "a = int(input(\"成绩：\"))\n",
    "if a>=90:\n",
    "    print(\"优秀\")\n",
    "elif a>=75 and a<90:\n",
    "    print(\"良好\")\n",
    "elif a>=60 and a<74:\n",
    "    print(\"合格\")\n",
    "elif a<60:\n",
    "    print(\"不合格\")"
   ]
  },
  {
   "cell_type": "markdown",
   "metadata": {},
   "source": [
    "3.编写Python程序，完成十进制小数到二进制小数的转换"
   ]
  },
  {
   "cell_type": "code",
   "execution_count": null,
   "metadata": {},
   "outputs": [],
   "source": [
    "a = float(input())\n",
    "b = int(a // 1)\n",
    "c = a - b\n",
    "result = \"0.\"\n",
    "if b > 0:\n",
    "    result += bin(int(b))[2:]\n",
    "for _ in range(10):\n",
    "        c *= 2\n",
    "        bit = int(c)\n",
    "        if bit == 1:\n",
    "            c -= bit\n",
    "            result += '1'\n",
    "        else:\n",
    "            result += '0'\n",
    "        if c == 0:\n",
    "            break\n",
    "print(result)\n"
   ]
  },
  {
   "cell_type": "markdown",
   "metadata": {},
   "source": [
    "4.编写Python程序，产生10-20的随机浮点数"
   ]
  },
  {
   "cell_type": "code",
   "execution_count": null,
   "metadata": {},
   "outputs": [],
   "source": [
    "import random\n",
    "a = 10\n",
    "b = 20\n",
    "c = a + (b - a) * random.random()\n",
    "print(c)"
   ]
  },
  {
   "cell_type": "markdown",
   "metadata": {},
   "source": [
    "5.编写一个Python函数，判断一个整数是否是回文数。回文数是指正序（从左向右）和倒序（从右向左）读都是一样的数。"
   ]
  },
  {
   "cell_type": "code",
   "execution_count": null,
   "metadata": {},
   "outputs": [],
   "source": [
    "\n",
    "num = int(input())\n",
    "if num < 0 or (num % 10 == 0 and num != 0):\n",
    "        print (\"不是回文数\")\n",
    "    \n",
    "half_num = 0\n",
    "while num > half_num:\n",
    "        half_num = half_num * 10 + num % 10\n",
    "        num //= 10\n",
    "    \n",
    "\n",
    "num == half_num or num == half_num // 10\n",
    "print (\"是回文数\")"
   ]
  },
  {
   "cell_type": "markdown",
   "metadata": {},
   "source": [
    "6.编写一个Python函数，返回一个包含斐波那契数列的前N个数的列表。斐波那契数列是一个数列，其中每个数是前两个数的和，数列以0和1开始。"
   ]
  },
  {
   "cell_type": "code",
   "execution_count": null,
   "metadata": {},
   "outputs": [],
   "source": [
    "N = int(input(\"前N个数：\"))\n",
    "def fibonacci(N):\n",
    "    if N <= 0:\n",
    "        return []\n",
    "    elif N == 1:\n",
    "        return [0]\n",
    "    elif N == 2:\n",
    "        return [0, 1]\n",
    "\n",
    "    L = [0, 1]\n",
    "    for i in range(2, N):\n",
    "        next_fib = L[-1] + L[-2]\n",
    "        L.append(next_fib)\n",
    "    \n",
    "    return L\n",
    "print(fibonacci(N), end=\" \")\n"
   ]
  },
  {
   "cell_type": "markdown",
   "metadata": {},
   "source": [
    "7.编写一个Python函数，接受一个整数数组作为输入，返回数组中第二大的数。如果数组中只有一个元素或数组为空，则返回-1。"
   ]
  },
  {
   "cell_type": "code",
   "execution_count": null,
   "metadata": {},
   "outputs": [],
   "source": [
    "def findnum(nums):  \n",
    "    if len(nums) < 2:  \n",
    "        return -1  \n",
    "      \n",
    "    first = second = float('-inf')  \n",
    "      \n",
    "    for num in nums:  \n",
    "        if num > first:  \n",
    "            second = first  \n",
    "            first = num  \n",
    "        elif first > num > second:  \n",
    "            second = num  \n",
    "      \n",
    "    return second if second != float('-inf') else -1  \n",
    "  \n",
    "\n",
    "L = input(\"请输入整数数组（用空格分隔）: \").split()  \n",
    "L = list(map(int, L))  \n",
    "result = findnum(L)  \n",
    "print(\"数组中第二大的数是:\", result)"
   ]
  },
  {
   "cell_type": "markdown",
   "metadata": {},
   "source": [
    "8.编写一个函数，使其能够用正则表达式的方式简单验证身份证号是否合法。"
   ]
  },
  {
   "cell_type": "code",
   "execution_count": 7,
   "metadata": {},
   "outputs": [
    {
     "name": "stdout",
     "output_type": "stream",
     "text": [
      "False\n"
     ]
    }
   ],
   "source": [
    "import re  \n",
    "  \n",
    "def validate_id_card(id):  \n",
    "    # 定义正则表达式模式  \n",
    "    pattern = re.compile(  \n",
    "        r'^[1-9]\\d{5}(18|19|20)\\d{2}(0[1-9]|1[0-2])(0[1-9]|[12]\\d|3[01])\\d{3}[\\dXx]$'  \n",
    "    )  \n",
    "      \n",
    "    # 使用正则表达式进行匹配  \n",
    "    if pattern.match(id):  \n",
    "        return True  \n",
    "    else:  \n",
    "        return False  \n",
    "id = input(\"请输入身份证号：\")\n",
    "result = validate_id_card(id)\n",
    "print(result)\n"
   ]
  }
 ],
 "metadata": {
  "kernelspec": {
   "display_name": "Python 3",
   "language": "python",
   "name": "python3"
  },
  "language_info": {
   "codemirror_mode": {
    "name": "ipython",
    "version": 3
   },
   "file_extension": ".py",
   "mimetype": "text/x-python",
   "name": "python",
   "nbconvert_exporter": "python",
   "pygments_lexer": "ipython3",
   "version": "3.11.9"
  }
 },
 "nbformat": 4,
 "nbformat_minor": 2
}
